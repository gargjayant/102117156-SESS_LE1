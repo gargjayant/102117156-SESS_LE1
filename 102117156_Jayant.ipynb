{
  "nbformat": 4,
  "nbformat_minor": 0,
  "metadata": {
    "colab": {
      "provenance": [],
      "gpuType": "T4",
      "include_colab_link": true
    },
    "kernelspec": {
      "name": "python3",
      "display_name": "Python 3"
    },
    "language_info": {
      "name": "python"
    },
    "accelerator": "GPU"
  },
  "cells": [
    {
      "cell_type": "markdown",
      "metadata": {
        "id": "view-in-github",
        "colab_type": "text"
      },
      "source": [
        "<a href=\"https://colab.research.google.com/github/gargjayant/102117156-SESS_LE1/blob/main/102117156_Jayant.ipynb\" target=\"_parent\"><img src=\"https://colab.research.google.com/assets/colab-badge.svg\" alt=\"Open In Colab\"/></a>"
      ]
    },
    {
      "cell_type": "markdown",
      "source": [
        "Name: **Jayant Garg**  \n",
        "Email: `jgarg_be21@thapar.edu`  \n",
        "Roll No: **102117156**  \n",
        "Group: **4CS6**  \n",
        "Start Timestamp: 20240911-1156  "
      ],
      "metadata": {
        "id": "JxSGFfaneMt9"
      }
    },
    {
      "cell_type": "markdown",
      "source": [
        "1 Logistics\n",
        "===========\n",
        "\n",
        "  + Start time: Wed Sep 11 10:00 AM\n",
        "  + End Time: Wed Sep 11 04:00 PM\n",
        "  + Submission Form:\n",
        "    <https://docs.google.com/forms/d/e/1FAIpQLSc2aAG33E0rQgs3OsrpyjyREwy9OKK_WnKqmBLvD7pzM4sOvg/viewform?usp=sf_link>\n",
        "  + Viva Voce: Will be notified later.\n",
        "\n",
        "\n",
        "2 Task\n",
        "======\n",
        "\n",
        "  Consider the paper: <https://arxiv.org/abs/1804.03209>\n",
        "\n",
        "  1. Read and summarise the paper in about 50 words.\n",
        "  2. Download the dataset in the paper, statistically analyse and\n",
        "     describe it, so that it may be useful for posterity. (Include code\n",
        "     snippets in your .ipynb file to evidence your analysis.)\n",
        "  3. Train a classifier so that you are able to distinguish the commands\n",
        "     in the dataset.\n",
        "  4. Report the performance results using standard benchmarks.\n",
        "  5. Record about 30 samples of each command in your voice and create a\n",
        "     new dataset (including a new user id for yourself).  You may use a\n",
        "     timer on your computer to synchronise.\n",
        "  6. Fine tune your classifier to perform on your voice.\n",
        "  7. Report the results.\n",
        "\n",
        "\n",
        "3 Deliverables\n",
        "==============\n",
        "\n",
        "  1. A PDF Report: (as a part of your Git Repo) named\n",
        "     <ROLL_NO>-report.pdf\n",
        "  2. Assets: Your pretrained classifier model weights and your cleaned\n",
        "     and well-formed dataset.  This should be a part of your google\n",
        "     drive with read access to your instructor <bv.raghav@thapar.edu>\n",
        "  3. A demo notebook: (as a part of your Git Repo), that loads both your\n",
        "     model and dataset; and runs to show the results.\n",
        "  4. The demo notebook should verify the assets using a checksum\n",
        "     (md5/sha/…).  This step verifies that the assets have not been\n",
        "     tampered with at a later stage.\n",
        "\n",
        "\n",
        "4 Evaluation\n",
        "============\n",
        "\n",
        "  1. Clarity of thought process and presentation.\n",
        "  2. Data processing skills.\n",
        "  3. Model fine tuning/ training skills.\n",
        "  4. Details of progress, as in what were the encountered problems and\n",
        "     how were they solved.\n",
        "  5. How adaptable is your pipeline? (as in, how easy is it for me to\n",
        "     adapt it for my voice)\n",
        "  6. How scalable is your approach? (as in, how easy is it to scale it\n",
        "     to many new voices)\n",
        "  7. Strengths and Shortcomings of your approach.\n",
        "\n",
        "\n",
        "5 Note\n",
        "======\n",
        "\n",
        "  1. This is a test of how fast can we report the performance of a model\n",
        "     for a specific task.  The best performance is not expected; but a\n",
        "     holistic pipeline is.\n",
        "  2. You may improve upon it in future, out of interest; though it\n",
        "     wouldn’t influence your eval."
      ],
      "metadata": {
        "id": "4rz1YOxxf4ON"
      }
    },
    {
      "cell_type": "markdown",
      "source": [
        "## Solution"
      ],
      "metadata": {
        "id": "qx2xTbgSFcWJ"
      }
    },
    {
      "cell_type": "code",
      "execution_count": 1,
      "metadata": {
        "id": "gEwtgNH5dtho"
      },
      "outputs": [],
      "source": [
        "import torch\n",
        "\n",
        "def createNnClassifier(d,H,C) :\n",
        "  ## FIXME: Create the model here.  Identity is just a dummy\n",
        "  model = torch.nn.Identity()\n",
        "\n",
        "  return model"
      ]
    },
    {
      "cell_type": "code",
      "source": [
        "import torch\n",
        "import torch.nn as nn\n",
        "import torch.optim as optim\n"
      ],
      "metadata": {
        "id": "sFNxSPp8FZ0a"
      },
      "execution_count": 12,
      "outputs": []
    },
    {
      "cell_type": "code",
      "source": [
        "!pip install torchaudio\n"
      ],
      "metadata": {
        "colab": {
          "base_uri": "https://localhost:8080/"
        },
        "collapsed": true,
        "id": "Cxszcl62YwW1",
        "outputId": "1a8ed028-1e62-4e3e-ba3d-7f130ca89507"
      },
      "execution_count": 13,
      "outputs": [
        {
          "output_type": "stream",
          "name": "stdout",
          "text": [
            "Requirement already satisfied: torchaudio in /usr/local/lib/python3.10/dist-packages (2.4.0+cu121)\n",
            "Requirement already satisfied: torch==2.4.0 in /usr/local/lib/python3.10/dist-packages (from torchaudio) (2.4.0+cu121)\n",
            "Requirement already satisfied: filelock in /usr/local/lib/python3.10/dist-packages (from torch==2.4.0->torchaudio) (3.15.4)\n",
            "Requirement already satisfied: typing-extensions>=4.8.0 in /usr/local/lib/python3.10/dist-packages (from torch==2.4.0->torchaudio) (4.12.2)\n",
            "Requirement already satisfied: sympy in /usr/local/lib/python3.10/dist-packages (from torch==2.4.0->torchaudio) (1.13.2)\n",
            "Requirement already satisfied: networkx in /usr/local/lib/python3.10/dist-packages (from torch==2.4.0->torchaudio) (3.3)\n",
            "Requirement already satisfied: jinja2 in /usr/local/lib/python3.10/dist-packages (from torch==2.4.0->torchaudio) (3.1.4)\n",
            "Requirement already satisfied: fsspec in /usr/local/lib/python3.10/dist-packages (from torch==2.4.0->torchaudio) (2024.6.1)\n",
            "Requirement already satisfied: MarkupSafe>=2.0 in /usr/local/lib/python3.10/dist-packages (from jinja2->torch==2.4.0->torchaudio) (2.1.5)\n",
            "Requirement already satisfied: mpmath<1.4,>=1.1.0 in /usr/local/lib/python3.10/dist-packages (from sympy->torch==2.4.0->torchaudio) (1.3.0)\n"
          ]
        }
      ]
    },
    {
      "cell_type": "code",
      "source": [
        "import torchaudio\n",
        "from torch.utils.data import DataLoader\n",
        "\n",
        "# Download and load the Speech Commands dataset\n",
        "dataset = torchaudio.datasets.SPEECHCOMMANDS(\n",
        "    root='.',  # Specify the folder where you want the dataset\n",
        "    download=True  # Set to True to download the dataset\n",
        ")\n",
        "\n",
        "# Set up a DataLoader for batch processing\n",
        "data_loader = DataLoader(dataset, batch_size=16, shuffle=True)\n"
      ],
      "metadata": {
        "colab": {
          "base_uri": "https://localhost:8080/"
        },
        "id": "O9Lv-yV2YySn",
        "outputId": "63a31197-b586-491b-e97f-98459b7d7405"
      },
      "execution_count": 15,
      "outputs": [
        {
          "output_type": "stream",
          "name": "stderr",
          "text": [
            "100%|██████████| 2.26G/2.26G [01:45<00:00, 23.0MB/s]\n"
          ]
        }
      ]
    },
    {
      "cell_type": "code",
      "source": [
        "!pip install torch torchaudio matplotlib numpy\n"
      ],
      "metadata": {
        "colab": {
          "base_uri": "https://localhost:8080/"
        },
        "collapsed": true,
        "id": "TPNdGpZ8cwXF",
        "outputId": "342c8071-7fc8-4257-b52f-32ffd61fc6fd"
      },
      "execution_count": 16,
      "outputs": [
        {
          "output_type": "stream",
          "name": "stdout",
          "text": [
            "Requirement already satisfied: torch in /usr/local/lib/python3.10/dist-packages (2.4.0+cu121)\n",
            "Requirement already satisfied: torchaudio in /usr/local/lib/python3.10/dist-packages (2.4.0+cu121)\n",
            "Requirement already satisfied: matplotlib in /usr/local/lib/python3.10/dist-packages (3.7.1)\n",
            "Requirement already satisfied: numpy in /usr/local/lib/python3.10/dist-packages (1.26.4)\n",
            "Requirement already satisfied: filelock in /usr/local/lib/python3.10/dist-packages (from torch) (3.15.4)\n",
            "Requirement already satisfied: typing-extensions>=4.8.0 in /usr/local/lib/python3.10/dist-packages (from torch) (4.12.2)\n",
            "Requirement already satisfied: sympy in /usr/local/lib/python3.10/dist-packages (from torch) (1.13.2)\n",
            "Requirement already satisfied: networkx in /usr/local/lib/python3.10/dist-packages (from torch) (3.3)\n",
            "Requirement already satisfied: jinja2 in /usr/local/lib/python3.10/dist-packages (from torch) (3.1.4)\n",
            "Requirement already satisfied: fsspec in /usr/local/lib/python3.10/dist-packages (from torch) (2024.6.1)\n",
            "Requirement already satisfied: contourpy>=1.0.1 in /usr/local/lib/python3.10/dist-packages (from matplotlib) (1.3.0)\n",
            "Requirement already satisfied: cycler>=0.10 in /usr/local/lib/python3.10/dist-packages (from matplotlib) (0.12.1)\n",
            "Requirement already satisfied: fonttools>=4.22.0 in /usr/local/lib/python3.10/dist-packages (from matplotlib) (4.53.1)\n",
            "Requirement already satisfied: kiwisolver>=1.0.1 in /usr/local/lib/python3.10/dist-packages (from matplotlib) (1.4.5)\n",
            "Requirement already satisfied: packaging>=20.0 in /usr/local/lib/python3.10/dist-packages (from matplotlib) (24.1)\n",
            "Requirement already satisfied: pillow>=6.2.0 in /usr/local/lib/python3.10/dist-packages (from matplotlib) (10.2.0)\n",
            "Requirement already satisfied: pyparsing>=2.3.1 in /usr/local/lib/python3.10/dist-packages (from matplotlib) (3.1.4)\n",
            "Requirement already satisfied: python-dateutil>=2.7 in /usr/local/lib/python3.10/dist-packages (from matplotlib) (2.8.2)\n",
            "Requirement already satisfied: six>=1.5 in /usr/local/lib/python3.10/dist-packages (from python-dateutil>=2.7->matplotlib) (1.16.0)\n",
            "Requirement already satisfied: MarkupSafe>=2.0 in /usr/local/lib/python3.10/dist-packages (from jinja2->torch) (2.1.5)\n",
            "Requirement already satisfied: mpmath<1.4,>=1.1.0 in /usr/local/lib/python3.10/dist-packages (from sympy->torch) (1.3.0)\n"
          ]
        }
      ]
    },
    {
      "cell_type": "code",
      "source": [
        "from collections import Counter\n",
        "import matplotlib.pyplot as plt\n",
        "import numpy as np"
      ],
      "metadata": {
        "id": "aWXE9jv0czIj"
      },
      "execution_count": 17,
      "outputs": []
    },
    {
      "cell_type": "code",
      "source": [
        "dataset = torchaudio.datasets.SPEECHCOMMANDS(root='.', download=True)"
      ],
      "metadata": {
        "id": "djvYIIo7c2OA"
      },
      "execution_count": 18,
      "outputs": []
    },
    {
      "cell_type": "code",
      "source": [
        "# Initialize variables to gather statistics\n",
        "durations = []  # To store the durations of audio files\n",
        "labels = []     # To store the labels (words)\n",
        "total_samples = 0  # Total number of audio samples\n"
      ],
      "metadata": {
        "id": "lsdZjppXc9yM"
      },
      "execution_count": 19,
      "outputs": []
    },
    {
      "cell_type": "code",
      "source": [
        "for waveform, sample_rate, label, *_ in dataset:\n",
        "    total_samples += 1\n",
        "    # Calculate the duration in seconds and store it\n",
        "    duration = waveform.shape[1] / sample_rate\n",
        "    durations.append(duration)\n",
        "    labels.append(label)\n",
        "\n",
        "    # 1. Total number of samples in the dataset\n",
        "print(f'Total number of audio samples: {total_samples}')\n",
        "\n",
        "# 2. Class distribution (number of samples per word)\n",
        "label_counts = Counter(labels)\n",
        "print(f'Distribution of words in the dataset: {label_counts}')"
      ],
      "metadata": {
        "colab": {
          "base_uri": "https://localhost:8080/"
        },
        "id": "icyHKHEEdDy3",
        "outputId": "ae134042-5e60-48c5-e7a9-0f3e76e8c5f1"
      },
      "execution_count": 20,
      "outputs": [
        {
          "output_type": "stream",
          "name": "stdout",
          "text": [
            "Total number of audio samples: 105829\n",
            "Distribution of words in the dataset: Counter({'five': 4052, 'zero': 4052, 'yes': 4044, 'seven': 3998, 'no': 3941, 'nine': 3934, 'down': 3917, 'one': 3890, 'go': 3880, 'two': 3880, 'stop': 3872, 'six': 3860, 'on': 3845, 'left': 3801, 'eight': 3787, 'right': 3778, 'off': 3745, 'four': 3728, 'three': 3727, 'up': 3723, 'dog': 2128, 'wow': 2123, 'house': 2113, 'marvin': 2100, 'bird': 2064, 'happy': 2054, 'cat': 2031, 'sheila': 2022, 'bed': 2014, 'tree': 1759, 'backward': 1664, 'visual': 1592, 'follow': 1579, 'learn': 1575, 'forward': 1557})\n"
          ]
        }
      ]
    },
    {
      "cell_type": "code",
      "source": [
        "type(label_counts)"
      ],
      "metadata": {
        "colab": {
          "base_uri": "https://localhost:8080/",
          "height": 185
        },
        "id": "tVt-2ke5eyuP",
        "outputId": "0ce91682-7532-4f19-c782-ad3741486599"
      },
      "execution_count": 29,
      "outputs": [
        {
          "output_type": "execute_result",
          "data": {
            "text/plain": [
              "collections.Counter"
            ],
            "text/html": [
              "<div style=\"max-width:800px; border: 1px solid var(--colab-border-color);\"><style>\n",
              "      pre.function-repr-contents {\n",
              "        overflow-x: auto;\n",
              "        padding: 8px 12px;\n",
              "        max-height: 500px;\n",
              "      }\n",
              "\n",
              "      pre.function-repr-contents.function-repr-contents-collapsed {\n",
              "        cursor: pointer;\n",
              "        max-height: 100px;\n",
              "      }\n",
              "    </style>\n",
              "    <pre style=\"white-space: initial; background:\n",
              "         var(--colab-secondary-surface-color); padding: 8px 12px;\n",
              "         border-bottom: 1px solid var(--colab-border-color);\"><b>collections.Counter</b><br/>def __init__(self, iterable=None, /, **kwds)</pre><pre class=\"function-repr-contents function-repr-contents-collapsed\" style=\"\"><a class=\"filepath\" style=\"display:none\" href=\"#\">/usr/lib/python3.10/collections/__init__.py</a>Dict subclass for counting hashable items.  Sometimes called a bag\n",
              "or multiset.  Elements are stored as dictionary keys and their counts\n",
              "are stored as dictionary values.\n",
              "\n",
              "&gt;&gt;&gt; c = Counter(&#x27;abcdeabcdabcaba&#x27;)  # count elements from a string\n",
              "\n",
              "&gt;&gt;&gt; c.most_common(3)                # three most common elements\n",
              "[(&#x27;a&#x27;, 5), (&#x27;b&#x27;, 4), (&#x27;c&#x27;, 3)]\n",
              "&gt;&gt;&gt; sorted(c)                       # list all unique elements\n",
              "[&#x27;a&#x27;, &#x27;b&#x27;, &#x27;c&#x27;, &#x27;d&#x27;, &#x27;e&#x27;]\n",
              "&gt;&gt;&gt; &#x27;&#x27;.join(sorted(c.elements()))   # list elements with repetitions\n",
              "&#x27;aaaaabbbbcccdde&#x27;\n",
              "&gt;&gt;&gt; sum(c.values())                 # total of all counts\n",
              "15\n",
              "\n",
              "&gt;&gt;&gt; c[&#x27;a&#x27;]                          # count of letter &#x27;a&#x27;\n",
              "5\n",
              "&gt;&gt;&gt; for elem in &#x27;shazam&#x27;:           # update counts from an iterable\n",
              "...     c[elem] += 1                # by adding 1 to each element&#x27;s count\n",
              "&gt;&gt;&gt; c[&#x27;a&#x27;]                          # now there are seven &#x27;a&#x27;\n",
              "7\n",
              "&gt;&gt;&gt; del c[&#x27;b&#x27;]                      # remove all &#x27;b&#x27;\n",
              "&gt;&gt;&gt; c[&#x27;b&#x27;]                          # now there are zero &#x27;b&#x27;\n",
              "0\n",
              "\n",
              "&gt;&gt;&gt; d = Counter(&#x27;simsalabim&#x27;)       # make another counter\n",
              "&gt;&gt;&gt; c.update(d)                     # add in the second counter\n",
              "&gt;&gt;&gt; c[&#x27;a&#x27;]                          # now there are nine &#x27;a&#x27;\n",
              "9\n",
              "\n",
              "&gt;&gt;&gt; c.clear()                       # empty the counter\n",
              "&gt;&gt;&gt; c\n",
              "Counter()\n",
              "\n",
              "Note:  If a count is set to zero or reduced to zero, it will remain\n",
              "in the counter until the entry is deleted or the counter is cleared:\n",
              "\n",
              "&gt;&gt;&gt; c = Counter(&#x27;aaabbc&#x27;)\n",
              "&gt;&gt;&gt; c[&#x27;b&#x27;] -= 2                     # reduce the count of &#x27;b&#x27; by two\n",
              "&gt;&gt;&gt; c.most_common()                 # &#x27;b&#x27; is still in, but its count is zero\n",
              "[(&#x27;a&#x27;, 3), (&#x27;c&#x27;, 1), (&#x27;b&#x27;, 0)]</pre>\n",
              "      <script>\n",
              "      if (google.colab.kernel.accessAllowed && google.colab.files && google.colab.files.view) {\n",
              "        for (const element of document.querySelectorAll('.filepath')) {\n",
              "          element.style.display = 'block'\n",
              "          element.onclick = (event) => {\n",
              "            event.preventDefault();\n",
              "            event.stopPropagation();\n",
              "            google.colab.files.view(element.textContent, 514);\n",
              "          };\n",
              "        }\n",
              "      }\n",
              "      for (const element of document.querySelectorAll('.function-repr-contents')) {\n",
              "        element.onclick = (event) => {\n",
              "          event.preventDefault();\n",
              "          event.stopPropagation();\n",
              "          element.classList.toggle('function-repr-contents-collapsed');\n",
              "        };\n",
              "      }\n",
              "      </script>\n",
              "      </div>"
            ]
          },
          "metadata": {},
          "execution_count": 29
        }
      ]
    },
    {
      "cell_type": "code",
      "source": [
        "durations = np.array(durations)\n",
        "mean_duration = durations.mean()\n",
        "std_duration = durations.std()\n",
        "min_duration = durations.min()\n",
        "max_duration = durations.max()\n",
        "\n",
        "print(f'Mean duration of audio files: {mean_duration:.4f} seconds')\n",
        "print(f'Standard deviation of audio durations: {std_duration:.4f} seconds')\n",
        "print(f'Minimum duration: {min_duration:.4f} seconds')\n",
        "print(f'Maximum duration: {max_duration:.4f} seconds')"
      ],
      "metadata": {
        "colab": {
          "base_uri": "https://localhost:8080/"
        },
        "id": "7T4p3WM8dQTe",
        "outputId": "72947fed-9584-48bb-d40e-4cd5299eb30b"
      },
      "execution_count": 21,
      "outputs": [
        {
          "output_type": "stream",
          "name": "stdout",
          "text": [
            "Mean duration of audio files: 0.9809 seconds\n",
            "Standard deviation of audio durations: 0.0718 seconds\n",
            "Minimum duration: 0.2133 seconds\n",
            "Maximum duration: 1.0000 seconds\n"
          ]
        }
      ]
    },
    {
      "cell_type": "code",
      "source": [
        "plt.hist(durations, bins=30, edgecolor='black')\n",
        "plt.title('Distribution of Audio Durations')\n",
        "plt.xlabel('Duration (seconds)')\n",
        "plt.ylabel('Frequency')\n",
        "plt.show()"
      ],
      "metadata": {
        "colab": {
          "base_uri": "https://localhost:8080/",
          "height": 472
        },
        "id": "BRwrt5EKdYm3",
        "outputId": "0f1c756f-f7c3-4bcb-c804-58e72589d668"
      },
      "execution_count": 22,
      "outputs": [
        {
          "output_type": "display_data",
          "data": {
            "text/plain": [
              "<Figure size 640x480 with 1 Axes>"
            ],
            "image/png": "[encoded data removed]"
          },
          "metadata": {}
        }
      ]
    },
    {
      "cell_type": "code",
      "source": [
        "labels, counts = zip(*label_counts.items())\n",
        "plt.bar(labels, counts)\n",
        "plt.title('Distribution of Word Labels')\n",
        "plt.xlabel('Words')\n",
        "plt.ylabel('Count')\n",
        "plt.xticks(rotation=90)\n",
        "plt.show()"
      ],
      "metadata": {
        "colab": {
          "base_uri": "https://localhost:8080/",
          "height": 525
        },
        "id": "z6wDHZnvdaWv",
        "outputId": "5cec2ce9-4fc4-4b5d-b98b-f6d2a8675ae4"
      },
      "execution_count": 23,
      "outputs": [
        {
          "output_type": "display_data",
          "data": {
            "text/plain": [
              "<Figure size 640x480 with 1 Axes>"
            ],
            "image/png": "[encoded data removed]"
          },
          "metadata": {}
        }
      ]
    }
  ]
}