{
  "nbformat": 4,
  "nbformat_minor": 0,
  "metadata": {
    "colab": {
      "provenance": [],
      "gpuType": "T4",
      "include_colab_link": true
    },
    "kernelspec": {
      "name": "python3",
      "display_name": "Python 3"
    },
    "language_info": {
      "name": "python"
    },
    "accelerator": "GPU"
  },
  "cells": [
    {
      "cell_type": "markdown",
      "metadata": {
        "id": "view-in-github",
        "colab_type": "text"
      },
      "source": [
        "<a href=\"https://colab.research.google.com/github/gargjayant/102117156-SESS_LE1/blob/main/102117156_Jayant.ipynb\" target=\"_parent\"><img src=\"https://colab.research.google.com/assets/colab-badge.svg\" alt=\"Open In Colab\"/></a>"
      ]
    },
    {
      "cell_type": "markdown",
      "source": [
        "Name: **Jayant Garg**  \n",
        "Email: `jgarg_be21@thapar.edu`  \n",
        "Roll No: **102117156**  \n",
        "Group: **4CS6**  \n",
        "Start Timestamp: 20240911-1000  "
      ],
      "metadata": {
        "id": "JxSGFfaneMt9"
      }
    },
    {
      "cell_type": "markdown",
      "source": [
        "1 Logistics\n",
        "===========\n",
        "\n",
        "  + Start time: Wed Sep 11 10:00 AM\n",
        "  + End Time: Wed Sep 11 04:00 PM\n",
        "  + Submission Form:\n",
        "    <https://docs.google.com/forms/d/e/1FAIpQLSc2aAG33E0rQgs3OsrpyjyREwy9OKK_WnKqmBLvD7pzM4sOvg/viewform?usp=sf_link>\n",
        "  + Viva Voce: Will be notified later.\n",
        "\n",
        "\n",
        "2 Task\n",
        "======\n",
        "\n",
        "  Consider the paper: <https://arxiv.org/abs/1804.03209>\n",
        "\n",
        "  1. Read and summarise the paper in about 50 words.\n",
        "  2. Download the dataset in the paper, statistically analyse and\n",
        "     describe it, so that it may be useful for posterity. (Include code\n",
        "     snippets in your .ipynb file to evidence your analysis.)\n",
        "  3. Train a classifier so that you are able to distinguish the commands\n",
        "     in the dataset.\n",
        "  4. Report the performance results using standard benchmarks.\n",
        "  5. Record about 30 samples of each command in your voice and create a\n",
        "     new dataset (including a new user id for yourself).  You may use a\n",
        "     timer on your computer to synchronise.\n",
        "  6. Fine tune your classifier to perform on your voice.\n",
        "  7. Report the results.\n",
        "\n",
        "\n",
        "3 Deliverables\n",
        "==============\n",
        "\n",
        "  1. A PDF Report: (as a part of your Git Repo) named\n",
        "     <ROLL_NO>-report.pdf\n",
        "  2. Assets: Your pretrained classifier model weights and your cleaned\n",
        "     and well-formed dataset.  This should be a part of your google\n",
        "     drive with read access to your instructor <bv.raghav@thapar.edu>\n",
        "  3. A demo notebook: (as a part of your Git Repo), that loads both your\n",
        "     model and dataset; and runs to show the results.\n",
        "  4. The demo notebook should verify the assets using a checksum\n",
        "     (md5/sha/…).  This step verifies that the assets have not been\n",
        "     tampered with at a later stage.\n",
        "\n",
        "\n",
        "4 Evaluation\n",
        "============\n",
        "\n",
        "  1. Clarity of thought process and presentation.\n",
        "  2. Data processing skills.\n",
        "  3. Model fine tuning/ training skills.\n",
        "  4. Details of progress, as in what were the encountered problems and\n",
        "     how were they solved.\n",
        "  5. How adaptable is your pipeline? (as in, how easy is it for me to\n",
        "     adapt it for my voice)\n",
        "  6. How scalable is your approach? (as in, how easy is it to scale it\n",
        "     to many new voices)\n",
        "  7. Strengths and Shortcomings of your approach.\n",
        "\n",
        "\n",
        "5 Note\n",
        "======\n",
        "\n",
        "  1. This is a test of how fast can we report the performance of a model\n",
        "     for a specific task.  The best performance is not expected; but a\n",
        "     holistic pipeline is.\n",
        "  2. You may improve upon it in future, out of interest; though it\n",
        "     wouldn’t influence your eval."
      ],
      "metadata": {
        "id": "4rz1YOxxf4ON"
      }
    },
    {
      "cell_type": "markdown",
      "source": [
        "## Solution"
      ],
      "metadata": {
        "id": "qx2xTbgSFcWJ"
      }
    },
    {
      "cell_type": "code",
      "source": [
        "import torch\n",
        "import torch.nn as nn\n",
        "import torch.optim as optim\n"
      ],
      "metadata": {
        "id": "sFNxSPp8FZ0a"
      },
      "execution_count": 1,
      "outputs": []
    },
    {
      "cell_type": "code",
      "source": [
        "!pip install torchaudio\n"
      ],
      "metadata": {
        "colab": {
          "base_uri": "https://localhost:8080/"
        },
        "collapsed": true,
        "id": "Cxszcl62YwW1",
        "outputId": "ac3c4f01-27ee-4a42-de81-45d2739a8a99"
      },
      "execution_count": 2,
      "outputs": [
        {
          "output_type": "stream",
          "name": "stdout",
          "text": [
            "Requirement already satisfied: torchaudio in /usr/local/lib/python3.10/dist-packages (2.4.0+cu121)\n",
            "Requirement already satisfied: torch==2.4.0 in /usr/local/lib/python3.10/dist-packages (from torchaudio) (2.4.0+cu121)\n",
            "Requirement already satisfied: filelock in /usr/local/lib/python3.10/dist-packages (from torch==2.4.0->torchaudio) (3.15.4)\n",
            "Requirement already satisfied: typing-extensions>=4.8.0 in /usr/local/lib/python3.10/dist-packages (from torch==2.4.0->torchaudio) (4.12.2)\n",
            "Requirement already satisfied: sympy in /usr/local/lib/python3.10/dist-packages (from torch==2.4.0->torchaudio) (1.13.2)\n",
            "Requirement already satisfied: networkx in /usr/local/lib/python3.10/dist-packages (from torch==2.4.0->torchaudio) (3.3)\n",
            "Requirement already satisfied: jinja2 in /usr/local/lib/python3.10/dist-packages (from torch==2.4.0->torchaudio) (3.1.4)\n",
            "Requirement already satisfied: fsspec in /usr/local/lib/python3.10/dist-packages (from torch==2.4.0->torchaudio) (2024.6.1)\n",
            "Requirement already satisfied: MarkupSafe>=2.0 in /usr/local/lib/python3.10/dist-packages (from jinja2->torch==2.4.0->torchaudio) (2.1.5)\n",
            "Requirement already satisfied: mpmath<1.4,>=1.1.0 in /usr/local/lib/python3.10/dist-packages (from sympy->torch==2.4.0->torchaudio) (1.3.0)\n"
          ]
        }
      ]
    },
    {
      "cell_type": "code",
      "source": [
        "import torchaudio\n",
        "from torch.utils.data import DataLoader\n",
        "\n",
        "\n",
        "dataset = torchaudio.datasets.SPEECHCOMMANDS(\n",
        "    root='.',\n",
        "    download=True\n",
        ")\n",
        "\n",
        "\n",
        "data_loader = DataLoader(dataset, batch_size=16, shuffle=True)\n"
      ],
      "metadata": {
        "colab": {
          "base_uri": "https://localhost:8080/"
        },
        "id": "O9Lv-yV2YySn",
        "outputId": "4a87c7ff-39cf-4915-9a6c-2540f34eb7ac"
      },
      "execution_count": 3,
      "outputs": [
        {
          "output_type": "stream",
          "name": "stderr",
          "text": [
            "100%|██████████| 2.26G/2.26G [00:33<00:00, 73.4MB/s]\n"
          ]
        }
      ]
    },
    {
      "cell_type": "code",
      "source": [
        "!pip install torch torchaudio matplotlib numpy\n"
      ],
      "metadata": {
        "colab": {
          "base_uri": "https://localhost:8080/"
        },
        "collapsed": true,
        "id": "TPNdGpZ8cwXF",
        "outputId": "74192465-0c1f-4268-914a-6b01d963e52b"
      },
      "execution_count": 4,
      "outputs": [
        {
          "output_type": "stream",
          "name": "stdout",
          "text": [
            "Requirement already satisfied: torch in /usr/local/lib/python3.10/dist-packages (2.4.0+cu121)\n",
            "Requirement already satisfied: torchaudio in /usr/local/lib/python3.10/dist-packages (2.4.0+cu121)\n",
            "Requirement already satisfied: matplotlib in /usr/local/lib/python3.10/dist-packages (3.7.1)\n",
            "Requirement already satisfied: numpy in /usr/local/lib/python3.10/dist-packages (1.26.4)\n",
            "Requirement already satisfied: filelock in /usr/local/lib/python3.10/dist-packages (from torch) (3.15.4)\n",
            "Requirement already satisfied: typing-extensions>=4.8.0 in /usr/local/lib/python3.10/dist-packages (from torch) (4.12.2)\n",
            "Requirement already satisfied: sympy in /usr/local/lib/python3.10/dist-packages (from torch) (1.13.2)\n",
            "Requirement already satisfied: networkx in /usr/local/lib/python3.10/dist-packages (from torch) (3.3)\n",
            "Requirement already satisfied: jinja2 in /usr/local/lib/python3.10/dist-packages (from torch) (3.1.4)\n",
            "Requirement already satisfied: fsspec in /usr/local/lib/python3.10/dist-packages (from torch) (2024.6.1)\n",
            "Requirement already satisfied: contourpy>=1.0.1 in /usr/local/lib/python3.10/dist-packages (from matplotlib) (1.3.0)\n",
            "Requirement already satisfied: cycler>=0.10 in /usr/local/lib/python3.10/dist-packages (from matplotlib) (0.12.1)\n",
            "Requirement already satisfied: fonttools>=4.22.0 in /usr/local/lib/python3.10/dist-packages (from matplotlib) (4.53.1)\n",
            "Requirement already satisfied: kiwisolver>=1.0.1 in /usr/local/lib/python3.10/dist-packages (from matplotlib) (1.4.5)\n",
            "Requirement already satisfied: packaging>=20.0 in /usr/local/lib/python3.10/dist-packages (from matplotlib) (24.1)\n",
            "Requirement already satisfied: pillow>=6.2.0 in /usr/local/lib/python3.10/dist-packages (from matplotlib) (9.4.0)\n",
            "Requirement already satisfied: pyparsing>=2.3.1 in /usr/local/lib/python3.10/dist-packages (from matplotlib) (3.1.4)\n",
            "Requirement already satisfied: python-dateutil>=2.7 in /usr/local/lib/python3.10/dist-packages (from matplotlib) (2.8.2)\n",
            "Requirement already satisfied: six>=1.5 in /usr/local/lib/python3.10/dist-packages (from python-dateutil>=2.7->matplotlib) (1.16.0)\n",
            "Requirement already satisfied: MarkupSafe>=2.0 in /usr/local/lib/python3.10/dist-packages (from jinja2->torch) (2.1.5)\n",
            "Requirement already satisfied: mpmath<1.4,>=1.1.0 in /usr/local/lib/python3.10/dist-packages (from sympy->torch) (1.3.0)\n"
          ]
        }
      ]
    },
    {
      "cell_type": "code",
      "source": [
        "import torchaudio\n",
        "from collections import Counter\n",
        "import matplotlib.pyplot as plt"
      ],
      "metadata": {
        "id": "aWXE9jv0czIj"
      },
      "execution_count": 5,
      "outputs": []
    },
    {
      "cell_type": "code",
      "source": [
        "dataset = torchaudio.datasets.SPEECHCOMMANDS(root='.', download=True)"
      ],
      "metadata": {
        "id": "djvYIIo7c2OA"
      },
      "execution_count": 6,
      "outputs": []
    },
    {
      "cell_type": "code",
      "source": [
        "def get_labels(dataset):\n",
        "    return [sample[2] for sample in dataset]\n",
        "\n",
        "\n",
        "labels = get_labels(dataset)\n",
        "label_counter = Counter(labels)\n",
        "\n",
        "plt.figure(figsize=(10, 5))\n",
        "plt.bar(label_counter.keys(), label_counter.values())\n",
        "plt.xticks(rotation=90)\n",
        "plt.title(\"Class Distribution in Speech Commands Dataset\")\n",
        "plt.show()\n",
        "\n",
        "\n",
        "total_samples = len(dataset)\n",
        "print(f\"Total number of samples: {total_samples}\")\n",
        "print(f\"Class distribution: {label_counter}\")"
      ],
      "metadata": {
        "colab": {
          "base_uri": "https://localhost:8080/",
          "height": 576
        },
        "id": "uKOzqTNXLsDT",
        "outputId": "21ddc476-4b04-4176-8f1d-8eb2800726c2"
      },
      "execution_count": 7,
      "outputs": [
        {
          "output_type": "display_data",
          "data": {
            "text/plain": [
              "<Figure size 1000x500 with 1 Axes>"
            ],
            "image/png": "[encoded data removed]"
          },
          "metadata": {}
        },
        {
          "output_type": "stream",
          "name": "stdout",
          "text": [
            "Total number of samples: 105829\n",
            "Class distribution: Counter({'five': 4052, 'zero': 4052, 'yes': 4044, 'seven': 3998, 'no': 3941, 'nine': 3934, 'down': 3917, 'one': 3890, 'go': 3880, 'two': 3880, 'stop': 3872, 'six': 3860, 'on': 3845, 'left': 3801, 'eight': 3787, 'right': 3778, 'off': 3745, 'four': 3728, 'three': 3727, 'up': 3723, 'dog': 2128, 'wow': 2123, 'house': 2113, 'marvin': 2100, 'bird': 2064, 'happy': 2054, 'cat': 2031, 'sheila': 2022, 'bed': 2014, 'tree': 1759, 'backward': 1664, 'visual': 1592, 'follow': 1579, 'learn': 1575, 'forward': 1557})\n"
          ]
        }
      ]
    },
    {
      "cell_type": "code",
      "source": [
        "class SpeechCommandsDataset(torch.utils.data.Dataset):\n",
        "    def __init__(self, dataset):\n",
        "        self.dataset = dataset\n",
        "\n",
        "    def __len__(self):\n",
        "        return len(self.dataset)\n",
        "\n",
        "    def __getitem__(self, idx):\n",
        "        waveform, sample_rate, label, *_ = self.dataset[idx]\n",
        "        waveform = pad_audio(waveform)\n",
        "        waveform = waveform.squeeze(0)\n",
        "        waveform = waveform.unsqueeze(0)  # Ensure shape is [1, sequence_length] for 1D CNN\n",
        "        return waveform, label\n"
      ],
      "metadata": {
        "id": "DfWTjQzMNFLi"
      },
      "execution_count": 15,
      "outputs": []
    },
    {
      "cell_type": "code",
      "source": [
        "import torch\n",
        "import torch.nn as nn\n",
        "\n",
        "class SimpleCNN(nn.Module):\n",
        "    def __init__(self):\n",
        "        super(SimpleCNN, self).__init__()\n",
        "        self.conv1 = nn.Conv1d(1, 16, kernel_size=3, stride=2)\n",
        "        self.conv2 = nn.Conv1d(16, 32, kernel_size=3, stride=2)\n",
        "\n",
        "\n",
        "        self.pool = nn.AdaptiveAvgPool1d(32)\n",
        "\n",
        "        self.fc1 = nn.Linear(32 * 32, 128)\n",
        "        self.fc2 = nn.Linear(128, len(label_counter))\n",
        "\n",
        "    def forward(self, x):\n",
        "        x = torch.relu(self.conv1(x))\n",
        "        x = torch.relu(self.conv2(x))\n",
        "        x = self.pool(x)\n",
        "        x = x.view(x.size(0), -1)\n",
        "        x = torch.relu(self.fc1(x))\n",
        "        x = self.fc2(x)\n",
        "        return x\n"
      ],
      "metadata": {
        "id": "c9Us9PddNH2Z"
      },
      "execution_count": 12,
      "outputs": []
    },
    {
      "cell_type": "code",
      "source": [
        "import torch\n",
        "import torch.nn as nn\n",
        "import torchaudio\n",
        "from torch.utils.data import DataLoader\n",
        "import torch.optim as optim\n",
        "from collections import Counter\n",
        "\n",
        "\n",
        "def pad_audio(audio, target_length=16000):\n",
        "    if audio.shape[1] < target_length:\n",
        "        padding = target_length - audio.shape[1]\n",
        "        audio = torch.nn.functional.pad(audio, (0, padding))\n",
        "    return audio\n",
        "\n",
        "\n",
        "class SpeechCommandsDataset(torch.utils.data.Dataset):\n",
        "    def __init__(self, dataset):\n",
        "        self.dataset = dataset\n",
        "\n",
        "    def __len__(self):\n",
        "        return len(self.dataset)\n",
        "\n",
        "    def __getitem__(self, idx):\n",
        "        waveform, sample_rate, label, *_ = self.dataset[idx]\n",
        "        waveform = pad_audio(waveform)\n",
        "        waveform = waveform.squeeze(0)\n",
        "        waveform = waveform.unsqueeze(0)\n",
        "        return waveform, label\n",
        "\n",
        "\n",
        "dataset = torchaudio.datasets.SPEECHCOMMANDS(root='.', download=True)\n",
        "processed_dataset = SpeechCommandsDataset(dataset)\n",
        "\n",
        "\n",
        "data_loader = DataLoader(processed_dataset, batch_size=16, shuffle=True)\n",
        "\n",
        "\n",
        "labels = [sample[1] for sample in dataset]\n",
        "label_counter = Counter(labels)\n",
        "\n",
        "\n",
        "class SimpleCNN(nn.Module):\n",
        "    def __init__(self):\n",
        "        super(SimpleCNN, self).__init__()\n",
        "        self.conv1 = nn.Conv1d(1, 16, kernel_size=3, stride=2)\n",
        "        self.conv2 = nn.Conv1d(16, 32, kernel_size=3, stride=2)\n",
        "        self.pool = nn.AdaptiveAvgPool1d(32)\n",
        "        self.fc1 = nn.Linear(32 * 32, 128)\n",
        "        self.fc2 = nn.Linear(128, len(label_counter))\n",
        "\n",
        "    def forward(self, x):\n",
        "        x = torch.relu(self.conv1(x))\n",
        "        x = torch.relu(self.conv2(x))\n",
        "        x = self.pool(x)\n",
        "        x = x.view(x.size(0), -1)\n",
        "        x = torch.relu(self.fc1(x))\n",
        "        x = self.fc2(x)\n",
        "        return x\n",
        "\n",
        "\n",
        "model = SimpleCNN()\n",
        "criterion = nn.CrossEntropyLoss()\n",
        "optimizer = optim.Adam(model.parameters(), lr=0.001)\n",
        "\n",
        "\n",
        "epochs = 5\n",
        "for epoch in range(epochs):\n",
        "    running_loss = 0.0\n",
        "    for inputs, labels in data_loader:\n",
        "        optimizer.zero_grad()\n",
        "        outputs = model(inputs)\n",
        "        loss = criterion(outputs, torch.tensor([label_counter[l] for l in labels]))\n",
        "        loss.backward()\n",
        "        optimizer.step()\n",
        "        running_loss += loss.item()\n",
        "\n",
        "    print(f\"Epoch {epoch+1}/{epochs}, Loss: {running_loss/len(data_loader)}\")\n",
        "\n",
        "def evaluate_model(model, data_loader):\n",
        "    model.eval()\n",
        "    correct = 0\n",
        "    total = 0\n",
        "    with torch.no_grad():\n",
        "        for inputs, labels in data_loader:\n",
        "            outputs = model(inputs)\n",
        "            _, predicted = torch.max(outputs.data, 1)\n",
        "            total += labels.size(0)\n",
        "            correct += (predicted == torch.tensor([label_counter[l] for l in labels])).sum().item()\n",
        "\n",
        "    accuracy = 100 * correct / total\n",
        "    print(f\"Accuracy: {accuracy}%\")\n",
        "\n",
        "evaluate_model(model, data_loader)\n"
      ],
      "metadata": {
        "id": "jdN-vugsNI-v"
      },
      "execution_count": null,
      "outputs": []
    }
  ]
}